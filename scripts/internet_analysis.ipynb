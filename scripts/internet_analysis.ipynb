{
 "cells": [
  {
   "cell_type": "markdown",
   "id": "d2f25b9f",
   "metadata": {},
   "source": [
    "### 14. Read in the internet use dataset into a DataFrame named `internet_df`. You will likely get errors when doing this. Check the arguments for the read_csv function to find ones that can help correct the errors (https://pandas.pydata.org/docs/reference/api/pandas.read_csv.html) Once you are able to read it in, take per a look at the top and bottom few rows to make sure that it has been read in correctly. Also, check the datatypes of the columns."
   ]
  },
  {
   "cell_type": "code",
   "execution_count": null,
   "id": "99dd7d1b",
   "metadata": {},
   "outputs": [],
   "source": [
    "import pandas as pd\n",
    "import numpy as np\n",
    "import matplotlib.pyplot as plt\n",
    "import seaborn as sns"
   ]
  },
  {
   "cell_type": "code",
   "execution_count": null,
   "id": "57ad9008",
   "metadata": {},
   "outputs": [],
   "source": [
    "internet_df_full = pd.read_csv('../data/internet_use.csv', usecols = ['Country or Area', 'Year', 'Value', 'Value Footnotes'])"
   ]
  },
  {
   "cell_type": "code",
   "execution_count": null,
   "id": "507547ac",
   "metadata": {},
   "outputs": [],
   "source": [
    "internet_df_full"
   ]
  },
  {
   "cell_type": "code",
   "execution_count": null,
   "id": "2c13d959",
   "metadata": {},
   "outputs": [],
   "source": [
    "internet_df = internet_df_full[0:4495]\n",
    "internet_df"
   ]
  },
  {
   "cell_type": "code",
   "execution_count": null,
   "id": "11565ca9",
   "metadata": {},
   "outputs": [],
   "source": [
    "footnoteIDs = internet_df_full[4496:4685].drop(columns = ['Value', 'Value Footnotes']).rename(columns = {'Country or Area':'footnoteSegID', 'Year':'Footnote'}).reset_index(drop=True)\n",
    "footnoteIDs"
   ]
  },
  {
   "cell_type": "code",
   "execution_count": null,
   "id": "95cb73f4",
   "metadata": {},
   "outputs": [],
   "source": [
    "internet_df.info()"
   ]
  },
  {
   "cell_type": "markdown",
   "id": "bce4b929",
   "metadata": {},
   "source": [
    "### 15. Drop the `Value Footnotes` column and rename the remaining three to 'Country', 'Year', and 'Internet_Users_Pct'."
   ]
  },
  {
   "cell_type": "code",
   "execution_count": null,
   "id": "08aa1dae",
   "metadata": {},
   "outputs": [],
   "source": [
    "internet_df = internet_df.rename(columns = {'Country or Area':'Country', 'Value':'Internet_Users_Pct'}).drop(columns = ['Value Footnotes'])\n",
    "internet_df"
   ]
  },
  {
   "cell_type": "markdown",
   "id": "96a2e2ba",
   "metadata": {},
   "source": [
    "### 16. Look at the number of observations in this dataset per year. What do you notice?"
   ]
  },
  {
   "cell_type": "code",
   "execution_count": null,
   "id": "fb263454",
   "metadata": {},
   "outputs": [],
   "source": [
    "internet_df.groupby(['Year'])['Year'].count()"
   ]
  },
  {
   "cell_type": "markdown",
   "id": "bc487126",
   "metadata": {},
   "source": [
    "### 17. What is the first year to have a non-zero internet users percentage value?"
   ]
  },
  {
   "cell_type": "code",
   "execution_count": null,
   "id": "f99287cd",
   "metadata": {},
   "outputs": [],
   "source": [
    "internet_df[internet_df['Internet_Users_Pct'].astype(float) > 0].sort_values(by = 'Year', ascending = True).head(1)['Year']"
   ]
  },
  {
   "cell_type": "markdown",
   "id": "d4aadcd4",
   "metadata": {},
   "source": [
    "year 1990 was the first recorded year of internet users"
   ]
  },
  {
   "cell_type": "markdown",
   "id": "def42103",
   "metadata": {},
   "source": [
    "### 18. How does the distribution of internet users percent differ for 2000 and 2014?"
   ]
  },
  {
   "cell_type": "code",
   "execution_count": null,
   "id": "9ad6d60b",
   "metadata": {},
   "outputs": [],
   "source": [
    "internet2000_2014 = internet_df[(internet_df['Year'].astype(int) == 2000) | (internet_df['Year'].astype(int) == 2014)]\n",
    "internet2000_2014['Internet_Users_Pct'] = pd.to_numeric(internet2000_2014['Internet_Users_Pct'])"
   ]
  },
  {
   "cell_type": "code",
   "execution_count": null,
   "id": "660f3ba2",
   "metadata": {},
   "outputs": [],
   "source": [
    "internet2000_2014"
   ]
  },
  {
   "cell_type": "code",
   "execution_count": null,
   "id": "f6784355",
   "metadata": {},
   "outputs": [],
   "source": [
    "internet2000_2014 = internet2000_2014.groupby(['Year'])['Internet_Users_Pct'].mean().to_frame().reset_index()"
   ]
  },
  {
   "cell_type": "code",
   "execution_count": null,
   "id": "d05a63cd",
   "metadata": {},
   "outputs": [],
   "source": [
    "internet2000_2014"
   ]
  },
  {
   "cell_type": "code",
   "execution_count": null,
   "id": "ea353400",
   "metadata": {},
   "outputs": [],
   "source": [
    "sns.barplot( x=internet2000_2014['Year'].astype(int), y=internet2000_2014['Internet_Users_Pct'])"
   ]
  },
  {
   "cell_type": "code",
   "execution_count": null,
   "id": "09818a45",
   "metadata": {},
   "outputs": [],
   "source": [
    "internet2000_2014['Internet_Users_Pct'][1] - internet2000_2014['Internet_Users_Pct'][0]"
   ]
  },
  {
   "cell_type": "markdown",
   "id": "f24030b0",
   "metadata": {},
   "source": [
    "The average internet usages per country increased by 36% from 2000 to 2014"
   ]
  },
  {
   "cell_type": "markdown",
   "id": "23cc3334",
   "metadata": {},
   "source": [
    "### 19. For how many countries was the percentage of internet users below 5% in 2014?"
   ]
  },
  {
   "cell_type": "code",
   "execution_count": null,
   "id": "dd9ecf7e",
   "metadata": {},
   "outputs": [],
   "source": [
    "below5_pct = internet_df[internet_df['Internet_Users_Pct'].astype(float) < 5]"
   ]
  },
  {
   "cell_type": "code",
   "execution_count": null,
   "id": "2a531de9",
   "metadata": {},
   "outputs": [],
   "source": [
    "below5_pct[below5_pct['Year'].astype(int) == 2014].count(axis=0)"
   ]
  },
  {
   "cell_type": "markdown",
   "id": "044ae860",
   "metadata": {},
   "source": [
    "16 countries had below 5% internet users in 2014"
   ]
  }
 ],
 "metadata": {
  "kernelspec": {
   "display_name": "Python 3 (ipykernel)",
   "language": "python",
   "name": "python3"
  },
  "language_info": {
   "codemirror_mode": {
    "name": "ipython",
    "version": 3
   },
   "file_extension": ".py",
   "mimetype": "text/x-python",
   "name": "python",
   "nbconvert_exporter": "python",
   "pygments_lexer": "ipython3",
   "version": "3.9.13"
  }
 },
 "nbformat": 4,
 "nbformat_minor": 5
}
