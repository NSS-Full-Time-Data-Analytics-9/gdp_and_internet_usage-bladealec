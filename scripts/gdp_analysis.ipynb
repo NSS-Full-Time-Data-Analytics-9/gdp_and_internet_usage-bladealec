{
 "cells": [
  {
   "cell_type": "markdown",
   "id": "8efdf8d7",
   "metadata": {},
   "source": [
    "Importing Libraries"
   ]
  },
  {
   "cell_type": "code",
   "execution_count": null,
   "id": "3afe36ae",
   "metadata": {},
   "outputs": [],
   "source": [
    "import pandas as pd\n",
    "import numpy as np\n",
    "import matplotlib.pyplot as plt\n",
    "import seaborn as sns\n"
   ]
  },
  {
   "cell_type": "code",
   "execution_count": null,
   "id": "68eefdf7",
   "metadata": {},
   "outputs": [],
   "source": [
    "gdp_df = pd.read_csv('../data/gdp_percapita.csv')"
   ]
  },
  {
   "cell_type": "markdown",
   "id": "374ee3b6",
   "metadata": {},
   "source": [
    "### 4.\tUsing the pandas `read_csv()` method, read the GDP dataset into your notebook as a DataFrame called `gdp_df`. Take a look at the first few and last few rows to familiarize yourself with what is contained in this dataset."
   ]
  },
  {
   "cell_type": "code",
   "execution_count": null,
   "id": "579c1ddc",
   "metadata": {},
   "outputs": [],
   "source": [
    "gdp_df"
   ]
  },
  {
   "cell_type": "markdown",
   "id": "556a487d",
   "metadata": {},
   "source": [
    "### 5. How many rows and columns are in `gdp_df`? What are the data types of each column?"
   ]
  },
  {
   "cell_type": "code",
   "execution_count": null,
   "id": "ff02dc5d",
   "metadata": {},
   "outputs": [],
   "source": [
    "gdp_df.info()"
   ]
  },
  {
   "cell_type": "markdown",
   "id": "11336752",
   "metadata": {},
   "source": [
    "rows(entries) = 7176"
   ]
  },
  {
   "cell_type": "markdown",
   "id": "958ea96e",
   "metadata": {},
   "source": [
    "data columns = 4;\n",
    "'Country or Area' -> object;\n",
    "'Year'            -> int64;\n",
    "'Value'           -> float64;\n",
    "'Value Footnotes' -> float64;"
   ]
  },
  {
   "cell_type": "markdown",
   "id": "5fc4468c",
   "metadata": {},
   "source": [
    "### 6. Drop the `Value Footnotes` column and rename the remaining three to 'Country', 'Year', and 'GDP_Per_Capita'."
   ]
  },
  {
   "cell_type": "code",
   "execution_count": null,
   "id": "2b80536f",
   "metadata": {},
   "outputs": [],
   "source": [
    "gdp_df = gdp_df.drop(columns = ['Value Footnotes'])"
   ]
  },
  {
   "cell_type": "code",
   "execution_count": null,
   "id": "0689a132",
   "metadata": {},
   "outputs": [],
   "source": [
    "gdp_df = gdp_df.rename(columns = {'Country or Area':'Country', 'Value':'GDP_Per_Capita'})"
   ]
  },
  {
   "cell_type": "markdown",
   "id": "0404b4c3",
   "metadata": {},
   "source": [
    "### 7. How many countries have data for all years? Which countries are missing many years of data? Look at the number of observations per year. What do you notice? "
   ]
  },
  {
   "cell_type": "code",
   "execution_count": null,
   "id": "2c2b2952",
   "metadata": {},
   "outputs": [],
   "source": [
    "gdp_df['Year'].max() - gdp_df['Year'].min()"
   ]
  },
  {
   "cell_type": "markdown",
   "id": "f588bfda",
   "metadata": {},
   "source": [
    "The years span from 1990 to 2020. Data for all years would count 31."
   ]
  },
  {
   "cell_type": "code",
   "execution_count": null,
   "id": "7ddaf17f",
   "metadata": {},
   "outputs": [],
   "source": [
    "gdp_df.groupby(['Country'])['Year'].count()"
   ]
  },
  {
   "cell_type": "code",
   "execution_count": null,
   "id": "550f2deb",
   "metadata": {},
   "outputs": [],
   "source": [
    "year_count = gdp_df.groupby(['Country'])['Year'].count().to_frame()\n",
    "year_count"
   ]
  },
  {
   "cell_type": "code",
   "execution_count": null,
   "id": "c4bfae54",
   "metadata": {},
   "outputs": [],
   "source": [
    "year_count = year_count.rename(columns = {'Year':'Year Count'}).reset_index()\n",
    "year_count"
   ]
  },
  {
   "cell_type": "code",
   "execution_count": null,
   "id": "070ec18f",
   "metadata": {},
   "outputs": [],
   "source": [
    "fulldata_amnt = year_count[year_count['Year Count'] == 31].count()\n",
    "\n",
    "fulldata_amnt"
   ]
  },
  {
   "cell_type": "markdown",
   "id": "bc451d42",
   "metadata": {},
   "source": [
    "205 countries have data for all years"
   ]
  },
  {
   "cell_type": "code",
   "execution_count": null,
   "id": "8e44ac40",
   "metadata": {},
   "outputs": [],
   "source": [
    "missingdata_amnt = year_count[year_count['Year Count'] <= 15].count()\n",
    "missingdata_amnt"
   ]
  },
  {
   "cell_type": "markdown",
   "id": "f0b6eb8f",
   "metadata": {},
   "source": [
    "6 countries are missing atleast half the data for all years"
   ]
  },
  {
   "cell_type": "code",
   "execution_count": null,
   "id": "94218f04",
   "metadata": {},
   "outputs": [],
   "source": [
    "year_count = gdp_df['Year'].value_counts()\n",
    "\n",
    "year_count"
   ]
  },
  {
   "cell_type": "markdown",
   "id": "d9745e80",
   "metadata": {},
   "source": [
    "There is a general trend where as the year decrease the available data decreases. Most countries are missing data before the 2000's."
   ]
  },
  {
   "cell_type": "markdown",
   "id": "f7c1abda",
   "metadata": {},
   "source": [
    "### 8. In this question, you're going to create some plots to show the distribution of GDP per capita for the year 2020. Go to the Python Graph Gallery (https://www.python-graph-gallery.com/) and look at the different types of plots under the Distribution section. Create a histogram, a density plot, a boxplot, and a violin plot. What do you notice when you look at these plots? How do the plots compare and what information can you get out of one type that you can't necessarily get out of the others?"
   ]
  },
  {
   "cell_type": "markdown",
   "id": "8247c2ec",
   "metadata": {},
   "source": [
    "creating a df with only the year 2020"
   ]
  },
  {
   "cell_type": "code",
   "execution_count": null,
   "id": "bb36ee46",
   "metadata": {},
   "outputs": [],
   "source": [
    "gdp2020_df = gdp_df[gdp_df['Year'] == 2020].reset_index().drop(columns = ['Year', 'index'])\n",
    "gdp2020_df"
   ]
  },
  {
   "cell_type": "code",
   "execution_count": null,
   "id": "e3c3cc00",
   "metadata": {},
   "outputs": [],
   "source": [
    "gdp_hist = sns.histplot( data = gdp2020_df, x = 'Country', y = 'GDP_Per_Capita')"
   ]
  },
  {
   "cell_type": "markdown",
   "id": "511dfb29",
   "metadata": {},
   "source": [
    "The histogram plot is very difficult to read. May come back to clean this."
   ]
  },
  {
   "cell_type": "code",
   "execution_count": null,
   "id": "39974823",
   "metadata": {},
   "outputs": [],
   "source": [
    "gdp_density = sns.kdeplot(gdp2020_df['GDP_Per_Capita'])"
   ]
  },
  {
   "cell_type": "markdown",
   "id": "55b4dd69",
   "metadata": {},
   "source": [
    "Infering information about the df on the density chart is much easier. "
   ]
  },
  {
   "cell_type": "code",
   "execution_count": null,
   "id": "518fab8d",
   "metadata": {},
   "outputs": [],
   "source": [
    "gdp_boxplot = sns.boxplot( x=gdp2020_df['Country'], y=gdp2020_df['GDP_Per_Capita'])"
   ]
  },
  {
   "cell_type": "markdown",
   "id": "e38c5af0",
   "metadata": {},
   "source": [
    "The boxplot is very difficult to read. May come back to clean this."
   ]
  },
  {
   "cell_type": "code",
   "execution_count": null,
   "id": "0707f25a",
   "metadata": {},
   "outputs": [],
   "source": [
    "gdp_violin = sns.violinplot( x=gdp2020_df['Country'], y=gdp2020_df['GDP_Per_Capita'])"
   ]
  },
  {
   "cell_type": "markdown",
   "id": "ad5c5159",
   "metadata": {},
   "source": [
    "The violin plot is very difficult to read. May come back to clean this."
   ]
  },
  {
   "cell_type": "markdown",
   "id": "828135eb",
   "metadata": {},
   "source": [
    "Most plots became very messy due to the large amount of countries to plot and the wide range of GDP. It would be best to plot countries that fit inside a range of GDP's rather than plotting all of them at once(FacetGrid may be useful). If one wanted to analyze all countries at once, the density plot would be most inciteful. The density plot shows us the 'amount'(percent may be a better word) of countries with the same GDP_Per_Capita. "
   ]
  },
  {
   "cell_type": "markdown",
   "id": "b1948ad2",
   "metadata": {},
   "source": [
    "### 9. What was the median GDP per capita value in 2020?"
   ]
  },
  {
   "cell_type": "code",
   "execution_count": null,
   "id": "2e59977e",
   "metadata": {},
   "outputs": [],
   "source": [
    "gdp2020_df['GDP_Per_Capita'].median()"
   ]
  },
  {
   "cell_type": "markdown",
   "id": "9669c12c",
   "metadata": {},
   "source": [
    "median gdp in 2020 was $12908.94"
   ]
  },
  {
   "cell_type": "markdown",
   "id": "ee1f802c",
   "metadata": {},
   "source": [
    "### 10. For this question, you're going to create some visualizations to compare GDP per capita values for the years 1990, 2000, 2010, and 2020. Start by subsetting your data to just these 4 years into a new DataFrame named gdp_decades. Using this, create the following 4 plots:\n",
    "\t* A boxplot\n",
    "\t* A barplot (check out the Barplot with Seaborn section: https://www.python-graph-gallery.com/barplot/#Seaborn)\n",
    "\t* A scatterplot\n",
    "\t* A scatterplot with a trend line overlaid (see this regplot example: https://www.python-graph-gallery.com/42-custom-linear-regression-fit-seaborn)  \n",
    "Comment on what you observe has happened to GDP values over time and the relative strengths and weaknesses of each type of plot."
   ]
  },
  {
   "cell_type": "markdown",
   "id": "28bf872a",
   "metadata": {},
   "source": [
    "I am creating 3 decades df's (mean, median, sum) for each year's gdp"
   ]
  },
  {
   "cell_type": "code",
   "execution_count": null,
   "id": "213ce6a2",
   "metadata": {},
   "outputs": [],
   "source": [
    "meangdp_df = gdp_df.groupby(['Year'])['GDP_Per_Capita'].mean().to_frame().reset_index()\n",
    "mediangdp_df =  gdp_df.groupby(['Year'])['GDP_Per_Capita'].median().to_frame().reset_index()\n",
    "sumgdp_df =  gdp_df.groupby(['Year'])['GDP_Per_Capita'].sum().to_frame().reset_index()"
   ]
  },
  {
   "cell_type": "code",
   "execution_count": null,
   "id": "8c00fbbc",
   "metadata": {},
   "outputs": [],
   "source": [
    "meangdp_df = meangdp_df[(meangdp_df['Year'] == 1990) | (meangdp_df['Year'] == 2000) | (meangdp_df['Year'] == 2010) | (meangdp_df['Year'] == 2020)]\n",
    "meangdp_df = meangdp_df.rename(columns = {'GDP_Per_Capita':'mean_gdp_per_year'})\n",
    "meangdp_df"
   ]
  },
  {
   "cell_type": "code",
   "execution_count": null,
   "id": "12c2e238",
   "metadata": {},
   "outputs": [],
   "source": [
    "mediangdp_df = mediangdp_df[(mediangdp_df['Year'] == 1990) | (mediangdp_df['Year'] == 2000) | (mediangdp_df['Year'] == 2010) | (mediangdp_df['Year'] == 2020)]\n",
    "mediangdp_df = mediangdp_df.rename(columns = {'GDP_Per_Capita':'median_gdp_per_year'})\n",
    "mediangdp_df"
   ]
  },
  {
   "cell_type": "code",
   "execution_count": null,
   "id": "36674f0f",
   "metadata": {},
   "outputs": [],
   "source": [
    "sumgdp_df = sumgdp_df[(sumgdp_df['Year'] == 1990) | (sumgdp_df['Year'] == 2000) | (sumgdp_df['Year'] == 2010) | (sumgdp_df['Year'] == 2020)]\n",
    "sumgdp_df = sumgdp_df.rename(columns = {'GDP_Per_Capita':'total_gdp_per_year'})\n",
    "sumgdp_df"
   ]
  },
  {
   "cell_type": "markdown",
   "id": "18e9372b",
   "metadata": {},
   "source": [
    "##### Boxplots"
   ]
  },
  {
   "cell_type": "code",
   "execution_count": null,
   "id": "072cd990",
   "metadata": {},
   "outputs": [],
   "source": [
    "meangdp_boxplot = sns.boxplot( x=meangdp_df['Year'], y=meangdp_df['mean_gdp_per_year'])"
   ]
  },
  {
   "cell_type": "code",
   "execution_count": null,
   "id": "ad3225dc",
   "metadata": {},
   "outputs": [],
   "source": [
    "mediangdp_boxplot = sns.boxplot( x=mediangdp_df['Year'], y=mediangdp_df['median_gdp_per_year'])"
   ]
  },
  {
   "cell_type": "code",
   "execution_count": null,
   "id": "767c2262",
   "metadata": {},
   "outputs": [],
   "source": [
    "sumgdp_boxplot = sns.boxplot( x=sumgdp_df['Year'], y=sumgdp_df['total_gdp_per_year'])"
   ]
  },
  {
   "cell_type": "markdown",
   "id": "35b7c6b4",
   "metadata": {},
   "source": [
    "##### Barplots"
   ]
  },
  {
   "cell_type": "code",
   "execution_count": null,
   "id": "703c5e95",
   "metadata": {},
   "outputs": [],
   "source": [
    "meangdp_barplot = sns.barplot(x=meangdp_df['Year'], y=meangdp_df['mean_gdp_per_year'])"
   ]
  },
  {
   "cell_type": "code",
   "execution_count": null,
   "id": "89c55299",
   "metadata": {},
   "outputs": [],
   "source": [
    "mediangdp_barplot = sns.barplot( x=mediangdp_df['Year'], y=mediangdp_df['median_gdp_per_year'])"
   ]
  },
  {
   "cell_type": "code",
   "execution_count": null,
   "id": "14e6120c",
   "metadata": {},
   "outputs": [],
   "source": [
    "sumgdp_barplot = sns.barplot( x=sumgdp_df['Year'], y=sumgdp_df['total_gdp_per_year'])"
   ]
  },
  {
   "cell_type": "markdown",
   "id": "7c0bb9ea",
   "metadata": {},
   "source": [
    "##### Scatterplots"
   ]
  },
  {
   "cell_type": "code",
   "execution_count": null,
   "id": "3049500b",
   "metadata": {},
   "outputs": [],
   "source": [
    "meangdp_scatterplot = sns.regplot(x=meangdp_df['Year'], y=meangdp_df['mean_gdp_per_year'], fit_reg = False)"
   ]
  },
  {
   "cell_type": "code",
   "execution_count": null,
   "id": "d5a7a931",
   "metadata": {},
   "outputs": [],
   "source": [
    "mediangdp_scatterplot = sns.regplot( x=mediangdp_df['Year'], y=mediangdp_df['median_gdp_per_year'], fit_reg = False)"
   ]
  },
  {
   "cell_type": "code",
   "execution_count": null,
   "id": "85f52266",
   "metadata": {},
   "outputs": [],
   "source": [
    "sumgdp_scatterplot = sns.regplot( x=sumgdp_df['Year'], y=sumgdp_df['total_gdp_per_year'], fit_reg = False)"
   ]
  },
  {
   "cell_type": "markdown",
   "id": "88d547dc",
   "metadata": {},
   "source": [
    "##### Scatterplots w/ Trendlines"
   ]
  },
  {
   "cell_type": "code",
   "execution_count": null,
   "id": "b9f93826",
   "metadata": {},
   "outputs": [],
   "source": [
    "meangdp_scatterplot = sns.regplot(x=meangdp_df['Year'], y=meangdp_df['mean_gdp_per_year'])"
   ]
  },
  {
   "cell_type": "code",
   "execution_count": null,
   "id": "bea91d82",
   "metadata": {},
   "outputs": [],
   "source": [
    "mediangdp_scatterplot = sns.regplot( x=mediangdp_df['Year'], y=mediangdp_df['median_gdp_per_year'])"
   ]
  },
  {
   "cell_type": "code",
   "execution_count": null,
   "id": "1ad4413a",
   "metadata": {},
   "outputs": [],
   "source": [
    "sumgdp_scatterplot = sns.regplot( x=sumgdp_df['Year'], y=sumgdp_df['total_gdp_per_year'])"
   ]
  },
  {
   "cell_type": "markdown",
   "id": "9a21ada1",
   "metadata": {},
   "source": [
    "### 11. Which country was the first to have a GDP per capita greater than $100,000?"
   ]
  },
  {
   "cell_type": "code",
   "execution_count": null,
   "id": "99c16f17",
   "metadata": {},
   "outputs": [],
   "source": [
    "gdp_df[gdp_df['GDP_Per_Capita'] >= 100000].sort_values(by = 'GDP_Per_Capita', ascending = True).head(1)"
   ]
  },
  {
   "cell_type": "markdown",
   "id": "c0dcc13c",
   "metadata": {},
   "source": [
    "United Arab Emirates $100,100 year 1998"
   ]
  },
  {
   "cell_type": "markdown",
   "id": "0b48444c",
   "metadata": {},
   "source": [
    "### 12. Which country had the highest GDP per capita in 2020? Create a plot showing how this country's GDP per capita has changed over the timespan of the dataset."
   ]
  },
  {
   "cell_type": "code",
   "execution_count": null,
   "id": "4d0d632f",
   "metadata": {},
   "outputs": [],
   "source": [
    "gdp_df[gdp_df['Year'] == 2020].sort_values(by = 'GDP_Per_Capita', ascending = False).head(1)"
   ]
  },
  {
   "cell_type": "code",
   "execution_count": null,
   "id": "388267ea",
   "metadata": {},
   "outputs": [],
   "source": [
    "luxembourg_df = gdp_df[gdp_df['Country'] == 'Luxembourg']"
   ]
  },
  {
   "cell_type": "code",
   "execution_count": null,
   "id": "0d9366a7",
   "metadata": {},
   "outputs": [],
   "source": [
    "sns.regplot( x=luxembourg_df['Year'], y=luxembourg_df['GDP_Per_Capita'])"
   ]
  },
  {
   "cell_type": "markdown",
   "id": "d190c085",
   "metadata": {},
   "source": [
    "### 13. Which country had the lowest GDP per capita in 2020? Create a plot showing how this country's GDP per capita has changed over the timespan of the dataset. **Bonus question:** Is it true in general that coutries had a higher GDP per capita in 2020 than in 1990? Which countries had lower GDP per capita in 2020 than in 1990?"
   ]
  },
  {
   "cell_type": "code",
   "execution_count": null,
   "id": "6428db3b",
   "metadata": {},
   "outputs": [],
   "source": [
    "gdp_df[gdp_df['Year'] == 2020].sort_values(by = 'GDP_Per_Capita', ascending = True).head(1)"
   ]
  },
  {
   "cell_type": "code",
   "execution_count": null,
   "id": "aeee910b",
   "metadata": {},
   "outputs": [],
   "source": [
    "burundi_df = gdp_df[gdp_df['Country'] == 'Burundi']"
   ]
  },
  {
   "cell_type": "code",
   "execution_count": null,
   "id": "8d23f0f5",
   "metadata": {},
   "outputs": [],
   "source": [
    "sns.regplot( x=burundi_df['Year'], y=burundi_df['GDP_Per_Capita'])"
   ]
  }
 ],
 "metadata": {
  "kernelspec": {
   "display_name": "Python 3 (ipykernel)",
   "language": "python",
   "name": "python3"
  },
  "language_info": {
   "codemirror_mode": {
    "name": "ipython",
    "version": 3
   },
   "file_extension": ".py",
   "mimetype": "text/x-python",
   "name": "python",
   "nbconvert_exporter": "python",
   "pygments_lexer": "ipython3",
   "version": "3.9.13"
  }
 },
 "nbformat": 4,
 "nbformat_minor": 5
}
