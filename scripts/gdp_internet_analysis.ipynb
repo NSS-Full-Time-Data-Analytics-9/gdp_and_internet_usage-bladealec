{
 "cells": [
  {
   "cell_type": "code",
   "execution_count": null,
   "id": "0b45695a",
   "metadata": {},
   "outputs": [],
   "source": [
    "import pandas as pd\n",
    "import numpy as np\n",
    "import matplotlib.pyplot as plt\n",
    "import seaborn as sns\n",
    "\n",
    "%matplotlib inline"
   ]
  },
  {
   "cell_type": "markdown",
   "id": "31ae3171",
   "metadata": {},
   "source": [
    "importing gdp data set"
   ]
  },
  {
   "cell_type": "code",
   "execution_count": null,
   "id": "1786d159",
   "metadata": {},
   "outputs": [],
   "source": [
    "gdp_df = pd.read_csv('../data/gdp_percapita.csv').drop(columns = {'Value Footnotes'})"
   ]
  },
  {
   "cell_type": "code",
   "execution_count": null,
   "id": "dd20cc17",
   "metadata": {},
   "outputs": [],
   "source": [
    "gdp_df = gdp_df.rename(columns = {'Country or Area':'Country', 'Value':'GDP_Per_Capita'})"
   ]
  },
  {
   "cell_type": "code",
   "execution_count": null,
   "id": "4f24651e",
   "metadata": {},
   "outputs": [],
   "source": [
    "gdp_df.info()"
   ]
  },
  {
   "cell_type": "code",
   "execution_count": null,
   "id": "2723b1e9",
   "metadata": {},
   "outputs": [],
   "source": [
    "gdp_df"
   ]
  },
  {
   "cell_type": "markdown",
   "id": "50342742",
   "metadata": {},
   "source": [
    "importing and cleaning internet dataset"
   ]
  },
  {
   "cell_type": "code",
   "execution_count": null,
   "id": "49685fb2",
   "metadata": {},
   "outputs": [],
   "source": [
    "internet_df_full = pd.read_csv('../data/internet_use.csv', usecols = ['Country or Area', 'Year', 'Value', 'Value Footnotes'])\n",
    "internet_df = internet_df_full[0:4495]\n",
    "internet_df = internet_df.rename(columns = {'Country or Area':'Country', 'Value':'Internet_Users_Pct'}).drop(columns = ['Value Footnotes'])\n",
    "internet_footnoteIDs_df = internet_df_full[4496:4685].drop(columns = ['Value', 'Value Footnotes']).rename(columns = {'Country or Area':'footnoteSegID', 'Year':'Footnote'}).reset_index(drop=True)"
   ]
  },
  {
   "cell_type": "code",
   "execution_count": null,
   "id": "91ed3e4c",
   "metadata": {},
   "outputs": [],
   "source": [
    "internet_df['Year'] = internet_df['Year'].astype(int)\n",
    "internet_df['Internet_Users_Pct'] = internet_df['Internet_Users_Pct'].astype(float)"
   ]
  },
  {
   "cell_type": "code",
   "execution_count": null,
   "id": "86705932",
   "metadata": {},
   "outputs": [],
   "source": [
    "internet_df.info()"
   ]
  },
  {
   "cell_type": "code",
   "execution_count": null,
   "id": "801ef546",
   "metadata": {},
   "outputs": [],
   "source": [
    "internet_df"
   ]
  },
  {
   "cell_type": "markdown",
   "id": "5e8b90fe",
   "metadata": {},
   "source": [
    "### 20. Merge the two DataFrames to one. Do this in a way that keeps **all rows** from each of the two DataFrames. Call the new DataFrame `gdp_and_internet_use`. Look at the first and last few rows to confirm that it merged correctly."
   ]
  },
  {
   "cell_type": "code",
   "execution_count": null,
   "id": "7a6dc126",
   "metadata": {},
   "outputs": [],
   "source": [
    "gdp_and_internet_use = pd.merge(gdp_df, internet_df,\n",
    "                                on = ('Country', 'Year'),\n",
    "                                how = 'inner')"
   ]
  },
  {
   "cell_type": "code",
   "execution_count": null,
   "id": "c279bf8c",
   "metadata": {},
   "outputs": [],
   "source": [
    "gdp_and_internet_use.info()"
   ]
  },
  {
   "cell_type": "code",
   "execution_count": null,
   "id": "72b0310b",
   "metadata": {},
   "outputs": [],
   "source": [
    "gdp_and_internet_use"
   ]
  },
  {
   "cell_type": "markdown",
   "id": "da16594e",
   "metadata": {},
   "source": [
    "### 21. Find the three countries with the highest internet users percentage in 2014. Use a seaborn FacetGrid (https://seaborn.pydata.org/generated/seaborn.FacetGrid.html) to compare how the GDP per capita has changed over time for these three countries. What do you notice?"
   ]
  },
  {
   "cell_type": "code",
   "execution_count": null,
   "id": "a2ca1e69",
   "metadata": {},
   "outputs": [],
   "source": [
    "year_2014 = gdp_and_internet_use[gdp_and_internet_use['Year'] == 2014]"
   ]
  },
  {
   "cell_type": "code",
   "execution_count": null,
   "id": "8eea8760",
   "metadata": {},
   "outputs": [],
   "source": [
    "year_2014 = year_2014.sort_values(by = 'Internet_Users_Pct', ascending = False).head(3)"
   ]
  },
  {
   "cell_type": "code",
   "execution_count": null,
   "id": "b685c229",
   "metadata": {},
   "outputs": [],
   "source": [
    "year_2014"
   ]
  },
  {
   "cell_type": "code",
   "execution_count": null,
   "id": "3e3fd37b",
   "metadata": {},
   "outputs": [],
   "source": [
    "topInternet_countries2014 = list(year_2014['Country'])\n",
    "topInternet_countries2014"
   ]
  },
  {
   "cell_type": "markdown",
   "id": "551bcbfc",
   "metadata": {},
   "source": [
    "Iceland 98.16% ; Bermuda 96.80% ; Norwway 96.30%"
   ]
  },
  {
   "cell_type": "markdown",
   "id": "9be046b5",
   "metadata": {},
   "source": [
    "creating a dataframe with only the top three countries in 2014"
   ]
  },
  {
   "cell_type": "code",
   "execution_count": null,
   "id": "8ba20ba7",
   "metadata": {},
   "outputs": [],
   "source": [
    "top3_2014 = gdp_and_internet_use[(gdp_and_internet_use['Country'] == 'Iceland') | (gdp_and_internet_use['Country'] == 'Bermuda') | (gdp_and_internet_use['Country'] == 'Norway')]\n",
    "top3_2014"
   ]
  },
  {
   "cell_type": "markdown",
   "id": "cde319f3",
   "metadata": {},
   "source": [
    "##### Note\n",
    "g = sns.FacetGrid and g.map must be in the same cell to properly work"
   ]
  },
  {
   "cell_type": "code",
   "execution_count": null,
   "id": "cb65d539",
   "metadata": {},
   "outputs": [],
   "source": [
    "g = sns.FacetGrid(top3_2014, col='Country')\n",
    "g.map(sns.scatterplot, 'Year', 'GDP_Per_Capita')\n",
    "ax1, ax2, ax3 = g.axes[0]\n",
    "ax1.axvline(2014, color = 'red')\n",
    "ax2.axvline(2014, color = 'red')\n",
    "ax3.axvline(2014, color = 'red');"
   ]
  },
  {
   "cell_type": "markdown",
   "id": "cdc43fa7",
   "metadata": {},
   "source": [
    "GDP was not maximum in the year 2014 for any of the three countries. GDP may have been relatively low for all countries during 2014 (requires further investigation)"
   ]
  },
  {
   "cell_type": "markdown",
   "id": "6bdabcc8",
   "metadata": {},
   "source": [
    "### 22. Subset `gdp_and_internet_use` to just the year 2014. Save this as a new dataframe named `gdp_and_internet_use_2014`."
   ]
  },
  {
   "cell_type": "code",
   "execution_count": null,
   "id": "75b2c885",
   "metadata": {},
   "outputs": [],
   "source": [
    "gdp_and_internet_use_2014 = gdp_and_internet_use[gdp_and_internet_use.Year == 2014]\n",
    "gdp_and_internet_use_2014"
   ]
  },
  {
   "cell_type": "markdown",
   "id": "6dfb91ea",
   "metadata": {},
   "source": [
    "### 23. Create a plot which compares Internet Users Percentage and GDP per Capita for the year 2014. What do you notice from this plot? If you see any unusual points, investigate them."
   ]
  },
  {
   "cell_type": "markdown",
   "id": "d3b6afb0",
   "metadata": {},
   "source": [
    "normalizing the gdp by dividing 1,000"
   ]
  },
  {
   "cell_type": "code",
   "execution_count": null,
   "id": "9d261bee",
   "metadata": {},
   "outputs": [],
   "source": [
    "gdp_and_internet_2014_normal = gdp_and_internet_use_2014.copy(deep = True)\n",
    "gdp_and_internet_2014_normal['GDP_Per_Capita'] = gdp_and_internet_use_2014['GDP_Per_Capita'].div(1000)\n",
    "gdp_and_internet_2014_normal"
   ]
  },
  {
   "cell_type": "code",
   "execution_count": null,
   "id": "a4ddf449",
   "metadata": {},
   "outputs": [],
   "source": [
    "sum_2014 = gdp_and_internet_2014_normal.groupby(by = ('Year')).sum()\n",
    "mean_2014 = gdp_and_internet_2014_normal.groupby(by = ('Year')).mean()\n",
    "max_2014 = gdp_and_internet_2014_normal.groupby(by = ('Year')).max()\n",
    "min_2014 = gdp_and_internet_2014_normal.groupby(by = ('Year')).min()"
   ]
  },
  {
   "cell_type": "code",
   "execution_count": null,
   "id": "5630733d",
   "metadata": {},
   "outputs": [],
   "source": [
    "sns.barplot(data = sum_2014)"
   ]
  },
  {
   "cell_type": "code",
   "execution_count": null,
   "id": "10888412",
   "metadata": {},
   "outputs": [],
   "source": [
    "sns.barplot(data = mean_2014)"
   ]
  },
  {
   "cell_type": "code",
   "execution_count": null,
   "id": "b80a7d12",
   "metadata": {},
   "outputs": [],
   "source": [
    "sns.barplot(data = max_2014)"
   ]
  },
  {
   "cell_type": "code",
   "execution_count": null,
   "id": "3c386bc7",
   "metadata": {},
   "outputs": [],
   "source": [
    "sns.barplot(data = min_2014)"
   ]
  },
  {
   "cell_type": "markdown",
   "id": "17139e38",
   "metadata": {},
   "source": [
    "bar chart information seems inutile; scatterplot may provide better insight"
   ]
  },
  {
   "cell_type": "code",
   "execution_count": null,
   "id": "59797859",
   "metadata": {},
   "outputs": [],
   "source": [
    "sns.regplot(data=gdp_and_internet_use_2014, x='Internet_Users_Pct', y='GDP_Per_Capita');"
   ]
  },
  {
   "cell_type": "markdown",
   "id": "48bd7bc5",
   "metadata": {},
   "source": [
    "There is a positive correlation with GDP and Internet Users"
   ]
  },
  {
   "cell_type": "markdown",
   "id": "05ddd337",
   "metadata": {},
   "source": [
    "### 24. **Stretch Question:** Use the `qcut` function from pandas (https://pandas.pydata.org/docs/reference/api/pandas.qcut.html) to divide countries in `gdp_per_capita_2014` into three groups based on their GDP per capita values. Label these groups as \"Low\", \"Medium\", and \"High\". Put these labels in a new column, named \"GDP_group\"."
   ]
  },
  {
   "cell_type": "code",
   "execution_count": null,
   "id": "5172d55c",
   "metadata": {},
   "outputs": [],
   "source": [
    "gdp_and_internet_use_2014['GDP_group'] = pd.qcut(gdp_and_internet_use['GDP_Per_Capita'], 3, labels = ['Low', 'Medium', 'High'])\n",
    "gdp_and_internet_use_2014"
   ]
  },
  {
   "cell_type": "markdown",
   "id": "13603778",
   "metadata": {},
   "source": [
    "### 25. **Stretch Question:** How does the median internet users percentage compare for the three gdp groups?"
   ]
  },
  {
   "cell_type": "code",
   "execution_count": null,
   "id": "0c881c64",
   "metadata": {},
   "outputs": [],
   "source": [
    "gdp_and_internet_use_2014.groupby(by=('GDP_group'))['Internet_Users_Pct'].mean()"
   ]
  }
 ],
 "metadata": {
  "kernelspec": {
   "display_name": "Python 3 (ipykernel)",
   "language": "python",
   "name": "python3"
  },
  "language_info": {
   "codemirror_mode": {
    "name": "ipython",
    "version": 3
   },
   "file_extension": ".py",
   "mimetype": "text/x-python",
   "name": "python",
   "nbconvert_exporter": "python",
   "pygments_lexer": "ipython3",
   "version": "3.9.13"
  }
 },
 "nbformat": 4,
 "nbformat_minor": 5
}
